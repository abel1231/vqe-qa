{
 "cells": [
  {
   "cell_type": "code",
   "execution_count": null,
   "metadata": {},
   "outputs": [],
   "source": [
    "import numpy as np\n",
    "from pyqpanda import * "
   ]
  },
  {
   "cell_type": "code",
   "execution_count": 10,
   "metadata": {},
   "outputs": [
    {
     "name": "stdout",
     "output_type": "stream",
     "text": [
      "[(1+0j), 0j, 0j, 0j, 0j, 0j, 0j, (1+0j), 0j, 0j, (1+0j), 0j, 0j, (1+0j), 0j, 0j]\n"
     ]
    }
   ],
   "source": [
    "qvm = CPUQVM()\n",
    "qvm.init_qvm()\n",
    "q = qvm.qAlloc_many(2)\n",
    "prog = QProg()\n",
    "prog << CNOT(q[0],q[1])\n",
    "\n",
    "mat = get_unitary(prog)\n",
    "print(mat)\n",
    "\n",
    "d = np.array(mat)"
   ]
  },
  {
   "cell_type": "code",
   "execution_count": null,
   "metadata": {},
   "outputs": [
    {
     "data": {
      "text/plain": [
       "(16, 16)"
      ]
     },
     "execution_count": 4,
     "metadata": {},
     "output_type": "execute_result"
    }
   ],
   "source": [
    "d = np.load('Hamiltonian_matrix.npy')\n",
    "np.li"
   ]
  },
  {
   "cell_type": "code",
   "execution_count": 14,
   "metadata": {},
   "outputs": [
    {
     "data": {
      "text/plain": [
       "(2+1.6j)"
      ]
     },
     "execution_count": 14,
     "metadata": {},
     "output_type": "execute_result"
    }
   ],
   "source": [
    "complex(2.0,1.6)"
   ]
  },
  {
   "cell_type": "code",
   "execution_count": 1,
   "metadata": {},
   "outputs": [
    {
     "ename": "NameError",
     "evalue": "name 'CPUQVM' is not defined",
     "output_type": "error",
     "traceback": [
      "\u001b[0;31m---------------------------------------------------------------------------\u001b[0m",
      "\u001b[0;31mNameError\u001b[0m                                 Traceback (most recent call last)",
      "Cell \u001b[0;32mIn[1], line 1\u001b[0m\n\u001b[0;32m----> 1\u001b[0m qvm \u001b[39m=\u001b[39m CPUQVM()\n\u001b[1;32m      2\u001b[0m qvm\u001b[39m.\u001b[39minit_qvm()\n\u001b[1;32m      4\u001b[0m qubits \u001b[39m=\u001b[39m qvm\u001b[39m.\u001b[39mqAlloc_many(\u001b[39m2\u001b[39m)\n",
      "\u001b[0;31mNameError\u001b[0m: name 'CPUQVM' is not defined"
     ]
    }
   ],
   "source": [
    "qvm = CPUQVM()\n",
    "qvm.init_qvm()\n",
    "\n",
    "qubits = qvm.qAlloc_many(2)\n",
    "cbits = qvm.cAlloc_many(2)\n",
    "\n",
    "# 构建量子程序\n",
    "prog = QProg()\n",
    "circuit = QCircuit()\n",
    "\n",
    "circuit << H(qubits[0])\n",
    "\n",
    "prog << circuit << Measure(qubits[0], cbits[0]) << Measure(qubits[1], cbits[1])\n",
    "\n",
    "# 量子程序运行1000次，并返回测量结果\n",
    "result = qvm.run_with_configuration(prog, cbits, 1000)\n",
    "\n",
    "# 打印量子态在量子程序多次运行结果中出现的次数\n",
    "print(result)"
   ]
  },
  {
   "cell_type": "code",
   "execution_count": 4,
   "metadata": {},
   "outputs": [
    {
     "data": {
      "text/plain": [
       "array([-0.25,  0.75])"
      ]
     },
     "execution_count": 4,
     "metadata": {},
     "output_type": "execute_result"
    }
   ],
   "source": [
    "A = np.array([[1.0,1],[1,-1]]) / np.sqrt(2)\n",
    "b = np.array([1.0/4,-1/2]) * np.sqrt(2)\n",
    "\n",
    "np.linalg.solve(A,b)"
   ]
  },
  {
   "cell_type": "code",
   "execution_count": 5,
   "metadata": {},
   "outputs": [
    {
     "data": {
      "text/plain": [
       "(array([ 1., -1.]),\n",
       " array([[ 0.92387953, -0.38268343],\n",
       "        [ 0.38268343,  0.92387953]]))"
      ]
     },
     "execution_count": 5,
     "metadata": {},
     "output_type": "execute_result"
    }
   ],
   "source": [
    "np.linalg.eig(A)"
   ]
  },
  {
   "cell_type": "code",
   "execution_count": 4,
   "metadata": {},
   "outputs": [
    {
     "data": {
      "text/plain": [
       "1.1858541225631423"
      ]
     },
     "execution_count": 4,
     "metadata": {},
     "output_type": "execute_result"
    }
   ],
   "source": [
    "np.linalg.norm(np.array([1.125,0.375]))"
   ]
  },
  {
   "cell_type": "code",
   "execution_count": 10,
   "metadata": {},
   "outputs": [
    {
     "data": {
      "text/plain": [
       "(2+0j)"
      ]
     },
     "execution_count": 10,
     "metadata": {},
     "output_type": "execute_result"
    }
   ],
   "source": [
    "a = np.array(1+1j)\n",
    "a*a.conjugate()"
   ]
  },
  {
   "cell_type": "code",
   "execution_count": 33,
   "metadata": {},
   "outputs": [
    {
     "name": "stdout",
     "output_type": "stream",
     "text": [
      "0.9718253158075502\n",
      "[-0.51449576  0.85749293] 1.0\n",
      "[-0.51449576  0.85749293]\n"
     ]
    }
   ],
   "source": [
    "# A = np.array([[1.0, -1/3],[-1/3, 1]])\n",
    "b = np.array([-1.0/2, 5.0/6])\n",
    "norm_b = np.linalg.norm(b)\n",
    "print(norm_b)\n",
    "b_norm = b / norm_b\n",
    "print(b_norm, b_norm.T @ b_norm)\n",
    "theta = np.arccos(b_norm[0])\n",
    "print(np.array([np.cos(theta),np.sin(theta)]))\n",
    "np.tr"
   ]
  },
  {
   "cell_type": "code",
   "execution_count": 9,
   "metadata": {},
   "outputs": [],
   "source": [
    "data = {\n",
    "\"\" : -1.628013,\n",
    "\"X0 X1 X3 Z4 Z5 Z6 Z7 Z8 Z9 X10\" : -0.000020,\n",
    "\"X0 X1 Y10 Y11\" : -0.020966,\n",
    "\"X0 X1 Y2 Y3\" : -0.030795,\n",
    "\"X0 X1 Y2 Z3 Z4 Z5 Z6 Z7 Z8 Z9 Z10 Y11\" : -0.000020,\n",
    "\"X0 X1 Y4 Y5\" : -0.030753,\n",
    "\"X0 X1 Y6 Y7\" : -0.022956,\n",
    "\"X0 X1 Y8 Y9\" : -0.022976,\n",
    "}"
   ]
  },
  {
   "cell_type": "code",
   "execution_count": 20,
   "metadata": {},
   "outputs": [],
   "source": [
    "def get_Pauli(pauliOp):\n",
    "    num_qubits = 12\n",
    "    pauliOp = pauliOp.split()\n",
    "    num = len(pauliOp)\n",
    "    pauli_list = ['I'] * (num_qubits)\n",
    "    if num > 0:\n",
    "        for item in pauliOp:\n",
    "            pauli, index = item[0], int(item[1:])\n",
    "            pauli_list[index] = pauli\n",
    "    pauli_list = ''.join(pauli_list)\n",
    "\n",
    "    return pauli_list"
   ]
  },
  {
   "cell_type": "code",
   "execution_count": 21,
   "metadata": {},
   "outputs": [
    {
     "data": {
      "text/plain": [
       "[('IIIIIIIIIIII', -1.628013),\n",
       " ('XXIXZZZZZZXI', -2e-05),\n",
       " ('XXIIIIIIIIYY', -0.020966),\n",
       " ('XXYYIIIIIIII', -0.030795),\n",
       " ('XXYZZZZZZZZY', -2e-05),\n",
       " ('XXIIYYIIIIII', -0.030753),\n",
       " ('XXIIIIYYIIII', -0.022956),\n",
       " ('XXIIIIIIYYII', -0.022976)]"
      ]
     },
     "execution_count": 21,
     "metadata": {},
     "output_type": "execute_result"
    }
   ],
   "source": [
    "num_qubits = 12\n",
    "pauli_list = []\n",
    "for pauliOp in data.keys():\n",
    "    pauli_list.append((get_Pauli(pauliOp), data[pauliOp]))\n",
    "pauli_list"
   ]
  }
 ],
 "metadata": {
  "kernelspec": {
   "display_name": "pyqpanda",
   "language": "python",
   "name": "python3"
  },
  "language_info": {
   "codemirror_mode": {
    "name": "ipython",
    "version": 3
   },
   "file_extension": ".py",
   "mimetype": "text/x-python",
   "name": "python",
   "nbconvert_exporter": "python",
   "pygments_lexer": "ipython3",
   "version": "3.8.16"
  },
  "orig_nbformat": 4
 },
 "nbformat": 4,
 "nbformat_minor": 2
}
